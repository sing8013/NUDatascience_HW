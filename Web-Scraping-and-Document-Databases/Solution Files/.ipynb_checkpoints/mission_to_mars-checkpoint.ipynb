{
 "cells": [
  {
   "cell_type": "code",
   "execution_count": 1,
   "metadata": {},
   "outputs": [],
   "source": [
    "# Import Dependencies\n",
    "from splinter import Browser\n",
    "from bs4 import BeautifulSoup\n",
    "from datetime import datetime\n",
    "import pandas as pd"
   ]
  },
  {
   "cell_type": "code",
   "execution_count": 2,
   "metadata": {},
   "outputs": [],
   "source": [
    "#Initialize browser\n",
    "def init_browser():\n",
    "# @NOTE: Replace the path with your actual path to the chromedriver\n",
    "    executable_path = {\"executable_path\": \"/usr/local/bin/chromedriver\"}\n",
    "    return Browser(\"chrome\", **executable_path, headless=False)"
   ]
  },
  {
   "cell_type": "code",
   "execution_count": 3,
   "metadata": {},
   "outputs": [],
   "source": [
    "# Scrape NASA Mars News\n",
    "def scrape_NASA():\n",
    "    browser=init_browser()\n",
    "    \n",
    "    #visit the NASA Mars News Site](https://mars.nasa.gov/news/\n",
    "    url = \"https://mars.nasa.gov/news/\"\n",
    "    browser.visit(url)\n",
    "    \n",
    "    #scrape page into soup\n",
    "    html = browser.html\n",
    "    soup=BeautifulSoup(html,\"html.parser\")\n",
    "    \n",
    "    #collect the latest News Title and Paragraph Text\n",
    "    latest_news = soup.find(\"div\", class_=\"list_text\")\n",
    "    #print(latest_news)\n",
    "    #news title\n",
    "    news_title=latest_news.find(\"div\",class_=\"content_title\").text\n",
    "    #print(news_title)\n",
    "    #paragraph text\n",
    "    news_p=latest_news.find(\"div\",class_=\"article_teaser_body\").text\n",
    "    \n",
    "    #store in dictionary\n",
    "    latest_news={\n",
    "        'title':news_title,\n",
    "        'paragraph':news_p\n",
    "    }\n",
    "    \n",
    "    return latest_news"
   ]
  },
  {
   "cell_type": "code",
   "execution_count": 4,
   "metadata": {},
   "outputs": [],
   "source": [
    "#Scrape JPL Mars Space Images\n",
    "def scrape_JPL():\n",
    "    browser = init_browser()\n",
    "    \n",
    "    #Visit the url for JPL Featured Space Image \n",
    "    #(https://www.jpl.nasa.gov/spaceimages/?search=&category=Mars)\n",
    "    url=\"https://www.jpl.nasa.gov/spaceimages/?search=&category=Mars\"\n",
    "    browser.visit(url)\n",
    "    \n",
    "    #scrape page into soup\n",
    "    html=browser.html\n",
    "    soup=BeautifulSoup(html,\"html.parser\")\n",
    "    \n",
    "    #find and collect the featured image\n",
    "    featured_image = soup.find(\"section\",class_=\"centered_text clearfix main_feature primary_media_feature single\")\\\n",
    "                     .find(\"article\").find(\"a\")['data-fancybox-href']\n",
    "    \n",
    "    featured_image_url = 'https://www.jpl.nasa.gov'+ featured_image\n",
    "    \n",
    "    return featured_image_url"
   ]
  },
  {
   "cell_type": "code",
   "execution_count": 5,
   "metadata": {},
   "outputs": [],
   "source": [
    "#scrape Mars Weather\n",
    "def scrape_mars_weather():\n",
    "    browser = init_browser()\n",
    "    #Visit the Mars Weather twitter account [here]\n",
    "    #(https://twitter.com/marswxreport?lang=en) \n",
    "    url = 'https://twitter.com/marswxreport?lang=en'\n",
    "    browser.visit(url)\n",
    "    \n",
    "    #scrape page into soup\n",
    "    html=browser.html\n",
    "    soup=BeautifulSoup(html,\"html.parser\")\n",
    "    \n",
    "    #scrape the latest Mars weather tweet from the page\n",
    "    mars_weather=soup.find(\"div\",class_=\"ProfileTimeline\")\\\n",
    "          .find(\"div\",class_=\"content\").find(\"p\").text\n",
    "    \n",
    "    return mars_weather\n",
    "        "
   ]
  },
  {
   "cell_type": "code",
   "execution_count": 20,
   "metadata": {},
   "outputs": [],
   "source": [
    "#scrape Mars Facts\n",
    "def scrape_mars_facts():\n",
    "    browser=init_browser()\n",
    "    \n",
    "    #Visit the Mars Facts webpage \n",
    "    #(http://space-facts.com/mars/) \n",
    "    url = 'http://space-facts.com/mars/'\n",
    "    browser.visit(url)\n",
    "    \n",
    "    #scrape page into soup\n",
    "    html=browser.html\n",
    "    #soup=BeautifulSoup(html,\"html.parser\")\n",
    "    \n",
    "    #scrape the table containing facts about the planet including Diameter, Mass, etc.\n",
    "    # use pandas to read the table\n",
    "    table=pd.read_html(html,skiprows=1)\n",
    "    #print(table)\n",
    "    df =pd.DataFrame(table[0])\n",
    "    df.columns=['Description','value']\n",
    "    \n",
    "    df=df.set_index('Description')\n",
    "    print(df)\n",
    "    #Use Pandas to convert the data to a HTML table string\n",
    "    mars_facts=df.to_html()\n",
    "    \n",
    "    return mars_facts"
   ]
  },
  {
   "cell_type": "code",
   "execution_count": 21,
   "metadata": {},
   "outputs": [
    {
     "name": "stdout",
     "output_type": "stream",
     "text": [
      "                                              value\n",
      "Description                                        \n",
      "Polar Diameter:                            6,752 km\n",
      "Mass:                 6.42 x 10^23 kg (10.7% Earth)\n",
      "Moons:                          2 (Phobos & Deimos)\n",
      "Orbit Distance:            227,943,824 km (1.52 AU)\n",
      "Orbit Period:                  687 days (1.9 years)\n",
      "Surface Temperature:                  -153 to 20 °C\n",
      "First Record:                     2nd millennium BC\n",
      "Recorded By:                   Egyptian astronomers\n"
     ]
    }
   ],
   "source": [
    "mars_facts=scrape_mars_facts()"
   ]
  },
  {
   "cell_type": "code",
   "execution_count": 9,
   "metadata": {},
   "outputs": [
    {
     "data": {
      "text/plain": [
       "'<table border=\"1\" class=\"dataframe\">\\n  <thead>\\n    <tr style=\"text-align: right;\">\\n      <th></th>\\n      <th>value</th>\\n    </tr>\\n    <tr>\\n      <th>Description</th>\\n      <th></th>\\n    </tr>\\n  </thead>\\n  <tbody>\\n    <tr>\\n      <th>NaN</th>\\n      <td>NaN</td>\\n    </tr>\\n    <tr>\\n      <th>NaN</th>\\n      <td>NaN</td>\\n    </tr>\\n    <tr>\\n      <th>NaN</th>\\n      <td>NaN</td>\\n    </tr>\\n    <tr>\\n      <th>NaN</th>\\n      <td>NaN</td>\\n    </tr>\\n    <tr>\\n      <th>NaN</th>\\n      <td>NaN</td>\\n    </tr>\\n    <tr>\\n      <th>NaN</th>\\n      <td>NaN</td>\\n    </tr>\\n    <tr>\\n      <th>NaN</th>\\n      <td>NaN</td>\\n    </tr>\\n    <tr>\\n      <th>NaN</th>\\n      <td>NaN</td>\\n    </tr>\\n  </tbody>\\n</table>'"
      ]
     },
     "execution_count": 9,
     "metadata": {},
     "output_type": "execute_result"
    }
   ],
   "source": [
    "mars_facts"
   ]
  },
  {
   "cell_type": "code",
   "execution_count": 7,
   "metadata": {},
   "outputs": [],
   "source": [
    "#scrape the images from Mars Hemispheres\n",
    "def scrape_mars_hemispheres():\n",
    "    browser=init_browser()\n",
    "    \n",
    "    #Visit the USGS Astrogeology site\n",
    "    #(https://astrogeology.usgs.gov/search/results?q=hemisphere+enhanced&k1=target&v1=Mars) \n",
    "    url='https://astrogeology.usgs.gov/search/results?q=hemisphere+enhanced&k1=target&v1=Mars'\n",
    "    browser.visit(url)\n",
    "    \n",
    "    #scrape page into soup\n",
    "    html=browser.html\n",
    "    soup=BeautifulSoup(html,\"html.parser\")\n",
    "    \n",
    "    #find all links to hemisphere image\n",
    "    all_items=soup.find(\"div\",class_=\"collapsible results\").find_all(\"div\",class_=\"item\")\n",
    "    \n",
    "    #initializer hemisphere_image_urls\n",
    "    hemisphere_image_urls=[]\n",
    "    \n",
    "    for item in all_items:\n",
    "\n",
    "        title=item.find(\"div\",class_=\"description\").find(\"a\").text    \n",
    "        link='https://astrogeology.usgs.gov' + item.find(\"a\")['href']\n",
    "        #visit the link and collect in soup\n",
    "        browser.visit(link)\n",
    "        soup2 = BeautifulSoup(browser.html,\"html.parser\")\n",
    "        img_url=soup2.find(\"img\",class_='wide-image')['src']\n",
    "        \n",
    "        dict_item={'title':title,\n",
    "                  'img_url':'https://astrogeology.usgs.gov'+ img_url}\n",
    "        \n",
    "        #add dict to the list\n",
    "        hemisphere_image_urls.append(dict_item)\n",
    "    \n",
    "    return hemisphere_image_urls"
   ]
  },
  {
   "cell_type": "code",
   "execution_count": 43,
   "metadata": {},
   "outputs": [],
   "source": [
    "NASA_data = scrape_NASA()\n",
    "JPL_data=scrape_JPL()\n",
    "mars_weather=scrape_mars_weather()\n",
    "mars_facts=scrape_mars_facts()\n",
    "mars_hemispheres=scrape_mars_hemispheres()"
   ]
  },
  {
   "cell_type": "code",
   "execution_count": 44,
   "metadata": {},
   "outputs": [
    {
     "data": {
      "text/plain": [
       "{'title': 'Scientists to Debate Landing Site for Next Mars Rover',\n",
       " 'paragraph': \"Hundreds of scientists and Mars-exploration enthusiasts gather this week to present, discuss and deliberate the future landing site for NASA's next Red Planet. \"}"
      ]
     },
     "execution_count": 44,
     "metadata": {},
     "output_type": "execute_result"
    }
   ],
   "source": [
    "NASA_data"
   ]
  },
  {
   "cell_type": "code",
   "execution_count": 45,
   "metadata": {},
   "outputs": [
    {
     "data": {
      "text/plain": [
       "'https://www.jpl.nasa.gov/spaceimages/images/mediumsize/PIA18614_ip.jpg'"
      ]
     },
     "execution_count": 45,
     "metadata": {},
     "output_type": "execute_result"
    }
   ],
   "source": [
    "JPL_data"
   ]
  },
  {
   "cell_type": "code",
   "execution_count": 46,
   "metadata": {},
   "outputs": [
    {
     "data": {
      "text/plain": [
       "'And finally - a stack of all the images - you can see so much detail here https://dougellison.smugmug.com/Machines/Space-X-SAOCOM-1A/i-zbJzq8L\\xa0…pic.twitter.com/9nLwAH3oZQ'"
      ]
     },
     "execution_count": 46,
     "metadata": {},
     "output_type": "execute_result"
    }
   ],
   "source": [
    "mars_weather"
   ]
  },
  {
   "cell_type": "code",
   "execution_count": 47,
   "metadata": {},
   "outputs": [
    {
     "data": {
      "text/plain": [
       "'<table border=\"1\" class=\"dataframe\">\\n  <thead>\\n    <tr style=\"text-align: right;\">\\n      <th></th>\\n      <th>0</th>\\n      <th>1</th>\\n    </tr>\\n  </thead>\\n  <tbody>\\n    <tr>\\n      <th>0</th>\\n      <td>Polar Diameter:</td>\\n      <td>6,752 km</td>\\n    </tr>\\n    <tr>\\n      <th>1</th>\\n      <td>Mass:</td>\\n      <td>6.42 x 10^23 kg (10.7% Earth)</td>\\n    </tr>\\n    <tr>\\n      <th>2</th>\\n      <td>Moons:</td>\\n      <td>2 (Phobos &amp; Deimos)</td>\\n    </tr>\\n    <tr>\\n      <th>3</th>\\n      <td>Orbit Distance:</td>\\n      <td>227,943,824 km (1.52 AU)</td>\\n    </tr>\\n    <tr>\\n      <th>4</th>\\n      <td>Orbit Period:</td>\\n      <td>687 days (1.9 years)</td>\\n    </tr>\\n    <tr>\\n      <th>5</th>\\n      <td>Surface Temperature:</td>\\n      <td>-153 to 20 °C</td>\\n    </tr>\\n    <tr>\\n      <th>6</th>\\n      <td>First Record:</td>\\n      <td>2nd millennium BC</td>\\n    </tr>\\n    <tr>\\n      <th>7</th>\\n      <td>Recorded By:</td>\\n      <td>Egyptian astronomers</td>\\n    </tr>\\n  </tbody>\\n</table>'"
      ]
     },
     "execution_count": 47,
     "metadata": {},
     "output_type": "execute_result"
    }
   ],
   "source": [
    "mars_facts"
   ]
  },
  {
   "cell_type": "code",
   "execution_count": 48,
   "metadata": {},
   "outputs": [
    {
     "data": {
      "text/plain": [
       "[{'title': 'Cerberus Hemisphere Enhanced',\n",
       "  'img_url': 'https://astrogeology.usgs.gov/cache/images/cfa62af2557222a02478f1fcd781d445_cerberus_enhanced.tif_full.jpg'},\n",
       " {'title': 'Schiaparelli Hemisphere Enhanced',\n",
       "  'img_url': 'https://astrogeology.usgs.gov/cache/images/3cdd1cbf5e0813bba925c9030d13b62e_schiaparelli_enhanced.tif_full.jpg'},\n",
       " {'title': 'Syrtis Major Hemisphere Enhanced',\n",
       "  'img_url': 'https://astrogeology.usgs.gov/cache/images/ae209b4e408bb6c3e67b6af38168cf28_syrtis_major_enhanced.tif_full.jpg'},\n",
       " {'title': 'Valles Marineris Hemisphere Enhanced',\n",
       "  'img_url': 'https://astrogeology.usgs.gov/cache/images/7cf2da4bf549ed01c17f206327be4db7_valles_marineris_enhanced.tif_full.jpg'}]"
      ]
     },
     "execution_count": 48,
     "metadata": {},
     "output_type": "execute_result"
    }
   ],
   "source": [
    "mars_hemispheres"
   ]
  },
  {
   "cell_type": "code",
   "execution_count": null,
   "metadata": {},
   "outputs": [],
   "source": []
  }
 ],
 "metadata": {
  "kernelspec": {
   "display_name": "Python [conda env:PythonData]",
   "language": "python",
   "name": "conda-env-PythonData-py"
  },
  "language_info": {
   "codemirror_mode": {
    "name": "ipython",
    "version": 3
   },
   "file_extension": ".py",
   "mimetype": "text/x-python",
   "name": "python",
   "nbconvert_exporter": "python",
   "pygments_lexer": "ipython3",
   "version": "3.6.5"
  }
 },
 "nbformat": 4,
 "nbformat_minor": 2
}
